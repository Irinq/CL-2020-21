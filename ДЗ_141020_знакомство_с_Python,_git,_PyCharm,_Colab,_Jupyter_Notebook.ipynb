{
  "nbformat": 4,
  "nbformat_minor": 0,
  "metadata": {
    "colab": {
      "name": "ДЗ / 141020/ знакомство с Python, git, PyCharm, Colab, Jupyter Notebook",
      "provenance": [],
      "collapsed_sections": []
    },
    "kernelspec": {
      "name": "python3",
      "display_name": "Python 3"
    }
  },
  "cells": [
    {
      "cell_type": "markdown",
      "metadata": {
        "id": "OaRaw_Xhe_WW"
      },
      "source": [
        "## домашнее задание 14 окт 2020 (дедлайн 28 окт 2020)\n"
      ]
    },
    {
      "cell_type": "code",
      "metadata": {
        "id": "7ULyIqr9rjqZ",
        "outputId": "92089ea5-87e0-427b-ddca-9ad00beb108d",
        "colab": {
          "base_uri": "https://localhost:8080/",
          "height": 292
        }
      },
      "source": [
        "# задание 1\n",
        "# какие из этих строк можно конкатенировать? Какие умножать? Какие вычитать? Запишите все результаты, которые у Вас получились\n",
        "a = 23\n",
        "b = 34.02\n",
        "c = \"python is cool \"\n",
        "d = \"you are cool, too \"\n",
        "print(a+b)\n",
        "print(c+d)\n",
        "print(a*b)\n",
        "print(a*c)\n",
        "print(a*d)\n",
        "print(a-b)\n",
        "print(b-a)\n",
        "print(a/b)\n",
        "print(b/a)\n",
        "print(a//b)\n",
        "print(b//a)\n",
        "print(a%b)\n",
        "print(b%a)\n",
        "print(a**b)\n",
        "print(b**a)"
      ],
      "execution_count": 10,
      "outputs": [
        {
          "output_type": "stream",
          "text": [
            "57.02\n",
            "python is cool you are cool, too \n",
            "782.46\n",
            "python is cool python is cool python is cool python is cool python is cool python is cool python is cool python is cool python is cool python is cool python is cool python is cool python is cool python is cool python is cool python is cool python is cool python is cool python is cool python is cool python is cool python is cool python is cool \n",
            "you are cool, too you are cool, too you are cool, too you are cool, too you are cool, too you are cool, too you are cool, too you are cool, too you are cool, too you are cool, too you are cool, too you are cool, too you are cool, too you are cool, too you are cool, too you are cool, too you are cool, too you are cool, too you are cool, too you are cool, too you are cool, too you are cool, too you are cool, too \n",
            "-11.020000000000003\n",
            "11.020000000000003\n",
            "0.6760728982951204\n",
            "1.4791304347826089\n",
            "0.0\n",
            "1.0\n",
            "23.0\n",
            "11.020000000000003\n",
            "2.1182683697282454e+46\n",
            "1.6978101021847653e+35\n"
          ],
          "name": "stdout"
        }
      ]
    },
    {
      "cell_type": "code",
      "metadata": {
        "id": "rFbWmOQgiP3d",
        "outputId": "301267a6-7795-4bc4-efac-bf0f26b61476",
        "colab": {
          "base_uri": "https://localhost:8080/",
          "height": 51
        }
      },
      "source": [
        "# задание 2\n",
        "\"\"\"\n",
        "Придумайте такую строку (на любом знакомом Вам языке),чтобы она состояла из трех других (повторы строки разрешены).\n",
        "Напишите код. Если вы можете сделать это более, чем одним способом, напишите все способы\n",
        "\"\"\"\n",
        "# a big black bug bit a big black bear\n",
        "a=\"a big black \"\n",
        "b='bug bit '\n",
        "c=\"bear \"\n",
        "str1=a+b+a+c\n",
        "m=\"bit a big \"\n",
        "n=\"black bug \"\n",
        "l=\"black bear \"\n",
        "str2=m[4::]+n+m+l\n",
        "print(str1)\n",
        "print(str2)\n"
      ],
      "execution_count": 43,
      "outputs": [
        {
          "output_type": "stream",
          "text": [
            "a big black bug bit a big black bear \n",
            "a big black bug bit a big black bear \n"
          ],
          "name": "stdout"
        }
      ]
    },
    {
      "cell_type": "code",
      "metadata": {
        "id": "axJ6u-qwsOxy",
        "outputId": "81ed20aa-5518-4b2f-d782-97f75e26dd64",
        "colab": {
          "base_uri": "https://localhost:8080/",
          "height": 34
        }
      },
      "source": [
        "# задание 3\n",
        "\"\"\"\n",
        "Как из слова \"апельсин\" сделать слово \"спаниель\" ? \n",
        "Подсказка: вам помогут срезы и операции с индексами\n",
        "\"\"\"\n",
        "a='апельсин'\n",
        "print(a[-3]+a[1::-1]+a[-1:-3:-1]+a[2:5])"
      ],
      "execution_count": 40,
      "outputs": [
        {
          "output_type": "stream",
          "text": [
            "спаниель\n"
          ],
          "name": "stdout"
        }
      ]
    },
    {
      "cell_type": "code",
      "metadata": {
        "id": "-RcJ1FISsSPx",
        "outputId": "b3e50b6e-57ac-4b60-e293-657998236ca4",
        "colab": {
          "base_uri": "https://localhost:8080/",
          "height": 34
        }
      },
      "source": [
        "# задание 4 (выполняется по желанию)\n",
        "\"\"\"элементы в переменной text преобразуйте в нижний регистр, а затем запишите наоборот, с последнего элемента по первый\"\"\"\n",
        "text = \"WOW,NOEL SEES LEON\"\n",
        "tlow=text.lower()\n",
        "rev=tlow[-1::-1]\n",
        "print(rev)\n"
      ],
      "execution_count": 42,
      "outputs": [
        {
          "output_type": "stream",
          "text": [
            "noel sees leon,wow\n"
          ],
          "name": "stdout"
        }
      ]
    },
    {
      "cell_type": "code",
      "metadata": {
        "id": "YGLMAqT7VU-A"
      },
      "source": [
        ""
      ],
      "execution_count": null,
      "outputs": []
    }
  ]
}